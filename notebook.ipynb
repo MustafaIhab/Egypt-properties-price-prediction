{
 "cells": [
  {
   "cell_type": "code",
   "execution_count": 1,
   "metadata": {},
   "outputs": [
    {
     "data": {
      "text/html": [
       "<div>\n",
       "<style scoped>\n",
       "    .dataframe tbody tr th:only-of-type {\n",
       "        vertical-align: middle;\n",
       "    }\n",
       "\n",
       "    .dataframe tbody tr th {\n",
       "        vertical-align: top;\n",
       "    }\n",
       "\n",
       "    .dataframe thead th {\n",
       "        text-align: right;\n",
       "    }\n",
       "</style>\n",
       "<table border=\"1\" class=\"dataframe\">\n",
       "  <thead>\n",
       "    <tr style=\"text-align: right;\">\n",
       "      <th></th>\n",
       "      <th>property type</th>\n",
       "      <th>bedrooms</th>\n",
       "      <th>bathrooms</th>\n",
       "      <th>area</th>\n",
       "      <th>address</th>\n",
       "      <th>price</th>\n",
       "    </tr>\n",
       "  </thead>\n",
       "  <tbody>\n",
       "    <tr>\n",
       "      <th>0</th>\n",
       "      <td>Apartment</td>\n",
       "      <td>3</td>\n",
       "      <td>3</td>\n",
       "      <td>239</td>\n",
       "      <td>The Fourteen Golf Residences, Uptown Cairo, Mo...</td>\n",
       "      <td>4860000</td>\n",
       "    </tr>\n",
       "    <tr>\n",
       "      <th>1</th>\n",
       "      <td>Villa</td>\n",
       "      <td>4</td>\n",
       "      <td>4</td>\n",
       "      <td>571</td>\n",
       "      <td>Allegria, Sheikh Zayed Compounds, Sheikh Zayed...</td>\n",
       "      <td>10000000</td>\n",
       "    </tr>\n",
       "    <tr>\n",
       "      <th>2</th>\n",
       "      <td>Apartment</td>\n",
       "      <td>2</td>\n",
       "      <td>2</td>\n",
       "      <td>134</td>\n",
       "      <td>IL Bosco, New Capital Compounds, New Capital C...</td>\n",
       "      <td>100000</td>\n",
       "    </tr>\n",
       "    <tr>\n",
       "      <th>3</th>\n",
       "      <td>iVilla</td>\n",
       "      <td>3</td>\n",
       "      <td>3</td>\n",
       "      <td>324</td>\n",
       "      <td>Mountain View Hyde Park, 5th Settlement Compou...</td>\n",
       "      <td>3800000</td>\n",
       "    </tr>\n",
       "    <tr>\n",
       "      <th>4</th>\n",
       "      <td>Villa</td>\n",
       "      <td>5</td>\n",
       "      <td>6</td>\n",
       "      <td>560</td>\n",
       "      <td>Allegria, Sheikh Zayed Compounds, Sheikh Zayed...</td>\n",
       "      <td>26000000</td>\n",
       "    </tr>\n",
       "  </tbody>\n",
       "</table>\n",
       "</div>"
      ],
      "text/plain": [
       "  property type  ...     price\n",
       "0     Apartment  ...   4860000\n",
       "1         Villa  ...  10000000\n",
       "2     Apartment  ...    100000\n",
       "3        iVilla  ...   3800000\n",
       "4         Villa  ...  26000000\n",
       "\n",
       "[5 rows x 6 columns]"
      ]
     },
     "execution_count": 1,
     "metadata": {},
     "output_type": "execute_result"
    }
   ],
   "source": [
    "import pandas as pd\n",
    "import numpy as np\n",
    "import matplotlib.pyplot as plt\n",
    "import seaborn as sb\n",
    "\n",
    "%matplotlib inline\n",
    "\n",
    "df = pd.read_excel('properties.xlsx')\n",
    "df.head()"
   ]
  },
  {
   "cell_type": "code",
   "execution_count": 2,
   "metadata": {},
   "outputs": [
    {
     "data": {
      "text/plain": [
       "(7879, 6)"
      ]
     },
     "execution_count": 2,
     "metadata": {},
     "output_type": "execute_result"
    }
   ],
   "source": [
    "df.shape"
   ]
  },
  {
   "cell_type": "code",
   "execution_count": 3,
   "metadata": {},
   "outputs": [
    {
     "data": {
      "text/plain": [
       "property type    0\n",
       "bedrooms         5\n",
       "bathrooms        4\n",
       "area             0\n",
       "address          0\n",
       "price            0\n",
       "dtype: int64"
      ]
     },
     "execution_count": 3,
     "metadata": {},
     "output_type": "execute_result"
    }
   ],
   "source": [
    "df.isnull().sum()"
   ]
  },
  {
   "cell_type": "code",
   "execution_count": 4,
   "metadata": {},
   "outputs": [
    {
     "data": {
      "text/plain": [
       "property type    0\n",
       "bedrooms         0\n",
       "bathrooms        0\n",
       "area             0\n",
       "address          0\n",
       "price            0\n",
       "dtype: int64"
      ]
     },
     "execution_count": 4,
     "metadata": {},
     "output_type": "execute_result"
    }
   ],
   "source": [
    "df.dropna(inplace=True)\n",
    "df.isnull().sum()"
   ]
  },
  {
   "cell_type": "code",
   "execution_count": 5,
   "metadata": {},
   "outputs": [
    {
     "data": {
      "text/plain": [
       "617"
      ]
     },
     "execution_count": 5,
     "metadata": {},
     "output_type": "execute_result"
    }
   ],
   "source": [
    "df.duplicated().sum()"
   ]
  },
  {
   "cell_type": "code",
   "execution_count": 6,
   "metadata": {},
   "outputs": [
    {
     "data": {
      "text/html": [
       "<div>\n",
       "<style scoped>\n",
       "    .dataframe tbody tr th:only-of-type {\n",
       "        vertical-align: middle;\n",
       "    }\n",
       "\n",
       "    .dataframe tbody tr th {\n",
       "        vertical-align: top;\n",
       "    }\n",
       "\n",
       "    .dataframe thead th {\n",
       "        text-align: right;\n",
       "    }\n",
       "</style>\n",
       "<table border=\"1\" class=\"dataframe\">\n",
       "  <thead>\n",
       "    <tr style=\"text-align: right;\">\n",
       "      <th></th>\n",
       "      <th>property type</th>\n",
       "      <th>bedrooms</th>\n",
       "      <th>bathrooms</th>\n",
       "      <th>area</th>\n",
       "      <th>address</th>\n",
       "      <th>price</th>\n",
       "    </tr>\n",
       "  </thead>\n",
       "  <tbody>\n",
       "    <tr>\n",
       "      <th>0</th>\n",
       "      <td>Apartment</td>\n",
       "      <td>3</td>\n",
       "      <td>3</td>\n",
       "      <td>239</td>\n",
       "      <td>The Fourteen Golf Residences, Uptown Cairo, Mo...</td>\n",
       "      <td>4860000</td>\n",
       "    </tr>\n",
       "    <tr>\n",
       "      <th>1</th>\n",
       "      <td>Villa</td>\n",
       "      <td>4</td>\n",
       "      <td>4</td>\n",
       "      <td>571</td>\n",
       "      <td>Allegria, Sheikh Zayed Compounds, Sheikh Zayed...</td>\n",
       "      <td>10000000</td>\n",
       "    </tr>\n",
       "    <tr>\n",
       "      <th>2</th>\n",
       "      <td>Apartment</td>\n",
       "      <td>2</td>\n",
       "      <td>2</td>\n",
       "      <td>134</td>\n",
       "      <td>IL Bosco, New Capital Compounds, New Capital C...</td>\n",
       "      <td>100000</td>\n",
       "    </tr>\n",
       "    <tr>\n",
       "      <th>3</th>\n",
       "      <td>iVilla</td>\n",
       "      <td>3</td>\n",
       "      <td>3</td>\n",
       "      <td>324</td>\n",
       "      <td>Mountain View Hyde Park, 5th Settlement Compou...</td>\n",
       "      <td>3800000</td>\n",
       "    </tr>\n",
       "    <tr>\n",
       "      <th>4</th>\n",
       "      <td>Villa</td>\n",
       "      <td>5</td>\n",
       "      <td>6</td>\n",
       "      <td>560</td>\n",
       "      <td>Allegria, Sheikh Zayed Compounds, Sheikh Zayed...</td>\n",
       "      <td>26000000</td>\n",
       "    </tr>\n",
       "    <tr>\n",
       "      <th>...</th>\n",
       "      <td>...</td>\n",
       "      <td>...</td>\n",
       "      <td>...</td>\n",
       "      <td>...</td>\n",
       "      <td>...</td>\n",
       "      <td>...</td>\n",
       "    </tr>\n",
       "    <tr>\n",
       "      <th>7874</th>\n",
       "      <td>Villa</td>\n",
       "      <td>4</td>\n",
       "      <td>4</td>\n",
       "      <td>360</td>\n",
       "      <td>Villette, 5th Settlement Compounds, The 5th Se...</td>\n",
       "      <td>15000000</td>\n",
       "    </tr>\n",
       "    <tr>\n",
       "      <th>7875</th>\n",
       "      <td>Apartment</td>\n",
       "      <td>3</td>\n",
       "      <td>2</td>\n",
       "      <td>205</td>\n",
       "      <td>Nagib Al Rehani St., Rehab City Third Phase, A...</td>\n",
       "      <td>1300000</td>\n",
       "    </tr>\n",
       "    <tr>\n",
       "      <th>7876</th>\n",
       "      <td>Penthouse</td>\n",
       "      <td>3</td>\n",
       "      <td>2</td>\n",
       "      <td>167</td>\n",
       "      <td>Kayan, Sheikh Zayed Compounds, Sheikh Zayed Ci...</td>\n",
       "      <td>2800000</td>\n",
       "    </tr>\n",
       "    <tr>\n",
       "      <th>7877</th>\n",
       "      <td>Chalet</td>\n",
       "      <td>3</td>\n",
       "      <td>3</td>\n",
       "      <td>100</td>\n",
       "      <td>Hacienda Bay, Sidi Abdel Rahman, North Coast</td>\n",
       "      <td>2500000</td>\n",
       "    </tr>\n",
       "    <tr>\n",
       "      <th>7878</th>\n",
       "      <td>Apartment</td>\n",
       "      <td>5</td>\n",
       "      <td>5</td>\n",
       "      <td>725</td>\n",
       "      <td>Zed Towers, Sheikh Zayed Compounds, Sheikh Zay...</td>\n",
       "      <td>87519000</td>\n",
       "    </tr>\n",
       "  </tbody>\n",
       "</table>\n",
       "<p>7257 rows × 6 columns</p>\n",
       "</div>"
      ],
      "text/plain": [
       "     property type  ...     price\n",
       "0        Apartment  ...   4860000\n",
       "1            Villa  ...  10000000\n",
       "2        Apartment  ...    100000\n",
       "3           iVilla  ...   3800000\n",
       "4            Villa  ...  26000000\n",
       "...            ...  ...       ...\n",
       "7874         Villa  ...  15000000\n",
       "7875     Apartment  ...   1300000\n",
       "7876     Penthouse  ...   2800000\n",
       "7877        Chalet  ...   2500000\n",
       "7878     Apartment  ...  87519000\n",
       "\n",
       "[7257 rows x 6 columns]"
      ]
     },
     "execution_count": 6,
     "metadata": {},
     "output_type": "execute_result"
    }
   ],
   "source": [
    "df.drop_duplicates()"
   ]
  },
  {
   "cell_type": "code",
   "execution_count": 7,
   "metadata": {},
   "outputs": [
    {
     "name": "stdout",
     "output_type": "stream",
     "text": [
      "<class 'pandas.core.frame.DataFrame'>\n",
      "Int64Index: 7874 entries, 0 to 7878\n",
      "Data columns (total 6 columns):\n",
      " #   Column         Non-Null Count  Dtype \n",
      "---  ------         --------------  ----- \n",
      " 0   property type  7874 non-null   object\n",
      " 1   bedrooms       7874 non-null   object\n",
      " 2   bathrooms      7874 non-null   object\n",
      " 3   area           7874 non-null   int64 \n",
      " 4   address        7874 non-null   object\n",
      " 5   price          7874 non-null   int64 \n",
      "dtypes: int64(2), object(4)\n",
      "memory usage: 430.6+ KB\n"
     ]
    }
   ],
   "source": [
    "df.info()"
   ]
  },
  {
   "cell_type": "code",
   "execution_count": 8,
   "metadata": {},
   "outputs": [],
   "source": [
    "# fixing some issues to get the quanintive rows ready to be converted\n",
    "\n",
    "df.replace('7+', '7', inplace=True)\n",
    "df.replace('studio', '0', inplace=True)\n",
    "df.replace('N/A', 0, inplace=True)\n",
    "df.replace('none', 0, inplace=True)\n"
   ]
  },
  {
   "cell_type": "code",
   "execution_count": 9,
   "metadata": {},
   "outputs": [
    {
     "name": "stdout",
     "output_type": "stream",
     "text": [
      "<class 'pandas.core.frame.DataFrame'>\n",
      "Int64Index: 7874 entries, 0 to 7878\n",
      "Data columns (total 6 columns):\n",
      " #   Column         Non-Null Count  Dtype \n",
      "---  ------         --------------  ----- \n",
      " 0   property type  7874 non-null   object\n",
      " 1   bedrooms       7874 non-null   int64 \n",
      " 2   bathrooms      7874 non-null   int64 \n",
      " 3   area           7874 non-null   int64 \n",
      " 4   address        7874 non-null   object\n",
      " 5   price          7874 non-null   int64 \n",
      "dtypes: int64(4), object(2)\n",
      "memory usage: 430.6+ KB\n"
     ]
    }
   ],
   "source": [
    "df.bedrooms = df.bedrooms.astype(int)\n",
    "df.bathrooms = df.bathrooms.astype(int)\n",
    "\n",
    "df.info()"
   ]
  },
  {
   "cell_type": "code",
   "execution_count": 10,
   "metadata": {},
   "outputs": [
    {
     "data": {
      "text/html": [
       "<div>\n",
       "<style scoped>\n",
       "    .dataframe tbody tr th:only-of-type {\n",
       "        vertical-align: middle;\n",
       "    }\n",
       "\n",
       "    .dataframe tbody tr th {\n",
       "        vertical-align: top;\n",
       "    }\n",
       "\n",
       "    .dataframe thead th {\n",
       "        text-align: right;\n",
       "    }\n",
       "</style>\n",
       "<table border=\"1\" class=\"dataframe\">\n",
       "  <thead>\n",
       "    <tr style=\"text-align: right;\">\n",
       "      <th></th>\n",
       "      <th>property type</th>\n",
       "      <th>bedrooms</th>\n",
       "      <th>bathrooms</th>\n",
       "      <th>area</th>\n",
       "      <th>address</th>\n",
       "      <th>price</th>\n",
       "      <th>compound</th>\n",
       "      <th>district</th>\n",
       "      <th>city</th>\n",
       "    </tr>\n",
       "  </thead>\n",
       "  <tbody>\n",
       "    <tr>\n",
       "      <th>0</th>\n",
       "      <td>Apartment</td>\n",
       "      <td>3</td>\n",
       "      <td>3</td>\n",
       "      <td>239</td>\n",
       "      <td>The Fourteen Golf Residences, Uptown Cairo, Mo...</td>\n",
       "      <td>4860000</td>\n",
       "      <td>The Fourteen Golf Residences</td>\n",
       "      <td>Uptown Cairo</td>\n",
       "      <td>Cairo</td>\n",
       "    </tr>\n",
       "    <tr>\n",
       "      <th>1</th>\n",
       "      <td>Villa</td>\n",
       "      <td>4</td>\n",
       "      <td>4</td>\n",
       "      <td>571</td>\n",
       "      <td>Allegria, Sheikh Zayed Compounds, Sheikh Zayed...</td>\n",
       "      <td>10000000</td>\n",
       "      <td>Allegria</td>\n",
       "      <td>Sheikh Zayed Compounds</td>\n",
       "      <td>Giza</td>\n",
       "    </tr>\n",
       "    <tr>\n",
       "      <th>2</th>\n",
       "      <td>Apartment</td>\n",
       "      <td>2</td>\n",
       "      <td>2</td>\n",
       "      <td>134</td>\n",
       "      <td>IL Bosco, New Capital Compounds, New Capital C...</td>\n",
       "      <td>100000</td>\n",
       "      <td>IL Bosco</td>\n",
       "      <td>New Capital Compounds</td>\n",
       "      <td>Cairo</td>\n",
       "    </tr>\n",
       "    <tr>\n",
       "      <th>3</th>\n",
       "      <td>iVilla</td>\n",
       "      <td>3</td>\n",
       "      <td>3</td>\n",
       "      <td>324</td>\n",
       "      <td>Mountain View Hyde Park, 5th Settlement Compou...</td>\n",
       "      <td>3800000</td>\n",
       "      <td>Mountain View Hyde Park</td>\n",
       "      <td>5th Settlement Compounds</td>\n",
       "      <td>Cairo</td>\n",
       "    </tr>\n",
       "    <tr>\n",
       "      <th>4</th>\n",
       "      <td>Villa</td>\n",
       "      <td>5</td>\n",
       "      <td>6</td>\n",
       "      <td>560</td>\n",
       "      <td>Allegria, Sheikh Zayed Compounds, Sheikh Zayed...</td>\n",
       "      <td>26000000</td>\n",
       "      <td>Allegria</td>\n",
       "      <td>Sheikh Zayed Compounds</td>\n",
       "      <td>Giza</td>\n",
       "    </tr>\n",
       "  </tbody>\n",
       "</table>\n",
       "</div>"
      ],
      "text/plain": [
       "  property type  bedrooms  ...                   district    city\n",
       "0     Apartment         3  ...               Uptown Cairo   Cairo\n",
       "1         Villa         4  ...     Sheikh Zayed Compounds    Giza\n",
       "2     Apartment         2  ...      New Capital Compounds   Cairo\n",
       "3        iVilla         3  ...   5th Settlement Compounds   Cairo\n",
       "4         Villa         5  ...     Sheikh Zayed Compounds    Giza\n",
       "\n",
       "[5 rows x 9 columns]"
      ]
     },
     "execution_count": 10,
     "metadata": {},
     "output_type": "execute_result"
    }
   ],
   "source": [
    "#Break down the address\n",
    "\n",
    "df['compound'] = df['address'].str.split(\",\").str[0]\n",
    "df['district'] = df['address'].str.split(\",\").str[1]\n",
    "df['city'] = df['address'].str.split(\",\").str[-1]\n",
    "df.head()"
   ]
  },
  {
   "cell_type": "code",
   "execution_count": 11,
   "metadata": {},
   "outputs": [
    {
     "data": {
      "text/html": [
       "<div>\n",
       "<style scoped>\n",
       "    .dataframe tbody tr th:only-of-type {\n",
       "        vertical-align: middle;\n",
       "    }\n",
       "\n",
       "    .dataframe tbody tr th {\n",
       "        vertical-align: top;\n",
       "    }\n",
       "\n",
       "    .dataframe thead th {\n",
       "        text-align: right;\n",
       "    }\n",
       "</style>\n",
       "<table border=\"1\" class=\"dataframe\">\n",
       "  <thead>\n",
       "    <tr style=\"text-align: right;\">\n",
       "      <th></th>\n",
       "      <th>property type</th>\n",
       "      <th>bedrooms</th>\n",
       "      <th>bathrooms</th>\n",
       "      <th>area</th>\n",
       "      <th>address</th>\n",
       "      <th>price</th>\n",
       "      <th>compound</th>\n",
       "      <th>district</th>\n",
       "      <th>city</th>\n",
       "    </tr>\n",
       "  </thead>\n",
       "  <tbody>\n",
       "    <tr>\n",
       "      <th>5516</th>\n",
       "      <td>Villa</td>\n",
       "      <td>2</td>\n",
       "      <td>2</td>\n",
       "      <td>116</td>\n",
       "      <td>O West, 6 October Compounds, 6 October City, Giza</td>\n",
       "      <td>314100000</td>\n",
       "      <td>O West</td>\n",
       "      <td>6 October Compounds</td>\n",
       "      <td>Giza</td>\n",
       "    </tr>\n",
       "  </tbody>\n",
       "</table>\n",
       "</div>"
      ],
      "text/plain": [
       "     property type  bedrooms  bathrooms  ...  compound              district   city\n",
       "5516         Villa         2          2  ...    O West   6 October Compounds   Giza\n",
       "\n",
       "[1 rows x 9 columns]"
      ]
     },
     "execution_count": 11,
     "metadata": {},
     "output_type": "execute_result"
    }
   ],
   "source": [
    "df[df['price'] == df['price'].max()]"
   ]
  },
  {
   "cell_type": "code",
   "execution_count": 12,
   "metadata": {},
   "outputs": [
    {
     "data": {
      "text/html": [
       "<div>\n",
       "<style scoped>\n",
       "    .dataframe tbody tr th:only-of-type {\n",
       "        vertical-align: middle;\n",
       "    }\n",
       "\n",
       "    .dataframe tbody tr th {\n",
       "        vertical-align: top;\n",
       "    }\n",
       "\n",
       "    .dataframe thead th {\n",
       "        text-align: right;\n",
       "    }\n",
       "</style>\n",
       "<table border=\"1\" class=\"dataframe\">\n",
       "  <thead>\n",
       "    <tr style=\"text-align: right;\">\n",
       "      <th></th>\n",
       "      <th>property type</th>\n",
       "      <th>bedrooms</th>\n",
       "      <th>bathrooms</th>\n",
       "      <th>area</th>\n",
       "      <th>address</th>\n",
       "      <th>price</th>\n",
       "      <th>compound</th>\n",
       "      <th>district</th>\n",
       "      <th>city</th>\n",
       "    </tr>\n",
       "  </thead>\n",
       "  <tbody>\n",
       "    <tr>\n",
       "      <th>2</th>\n",
       "      <td>Apartment</td>\n",
       "      <td>2</td>\n",
       "      <td>2</td>\n",
       "      <td>134</td>\n",
       "      <td>IL Bosco, New Capital Compounds, New Capital C...</td>\n",
       "      <td>100000</td>\n",
       "      <td>IL Bosco</td>\n",
       "      <td>New Capital Compounds</td>\n",
       "      <td>Cairo</td>\n",
       "    </tr>\n",
       "    <tr>\n",
       "      <th>8</th>\n",
       "      <td>Apartment</td>\n",
       "      <td>2</td>\n",
       "      <td>2</td>\n",
       "      <td>130</td>\n",
       "      <td>R7, New Capital City, Cairo</td>\n",
       "      <td>100000</td>\n",
       "      <td>R7</td>\n",
       "      <td>New Capital City</td>\n",
       "      <td>Cairo</td>\n",
       "    </tr>\n",
       "    <tr>\n",
       "      <th>24</th>\n",
       "      <td>Chalet</td>\n",
       "      <td>1</td>\n",
       "      <td>1</td>\n",
       "      <td>40</td>\n",
       "      <td>Zahra, Sidi Abdel Rahman, North Coast</td>\n",
       "      <td>100000</td>\n",
       "      <td>Zahra</td>\n",
       "      <td>Sidi Abdel Rahman</td>\n",
       "      <td>North Coast</td>\n",
       "    </tr>\n",
       "    <tr>\n",
       "      <th>255</th>\n",
       "      <td>Apartment</td>\n",
       "      <td>3</td>\n",
       "      <td>3</td>\n",
       "      <td>195</td>\n",
       "      <td>De Joya, New Capital Compounds, New Capital Ci...</td>\n",
       "      <td>100000</td>\n",
       "      <td>De Joya</td>\n",
       "      <td>New Capital Compounds</td>\n",
       "      <td>Cairo</td>\n",
       "    </tr>\n",
       "    <tr>\n",
       "      <th>314</th>\n",
       "      <td>Apartment</td>\n",
       "      <td>1</td>\n",
       "      <td>1</td>\n",
       "      <td>80</td>\n",
       "      <td>R7, New Capital City, Cairo</td>\n",
       "      <td>100000</td>\n",
       "      <td>R7</td>\n",
       "      <td>New Capital City</td>\n",
       "      <td>Cairo</td>\n",
       "    </tr>\n",
       "    <tr>\n",
       "      <th>345</th>\n",
       "      <td>Apartment</td>\n",
       "      <td>2</td>\n",
       "      <td>2</td>\n",
       "      <td>110</td>\n",
       "      <td>Sky AD, New Capital Compounds, New Capital Cit...</td>\n",
       "      <td>100000</td>\n",
       "      <td>Sky AD</td>\n",
       "      <td>New Capital Compounds</td>\n",
       "      <td>Cairo</td>\n",
       "    </tr>\n",
       "    <tr>\n",
       "      <th>547</th>\n",
       "      <td>Apartment</td>\n",
       "      <td>3</td>\n",
       "      <td>2</td>\n",
       "      <td>350</td>\n",
       "      <td>Bait Al Watan Al Takmely, Northern Expansions,...</td>\n",
       "      <td>100000</td>\n",
       "      <td>Bait Al Watan Al Takmely</td>\n",
       "      <td>Northern Expansions</td>\n",
       "      <td>Giza</td>\n",
       "    </tr>\n",
       "    <tr>\n",
       "      <th>551</th>\n",
       "      <td>Apartment</td>\n",
       "      <td>3</td>\n",
       "      <td>3</td>\n",
       "      <td>150</td>\n",
       "      <td>IL Bosco, New Capital Compounds, New Capital C...</td>\n",
       "      <td>100000</td>\n",
       "      <td>IL Bosco</td>\n",
       "      <td>New Capital Compounds</td>\n",
       "      <td>Cairo</td>\n",
       "    </tr>\n",
       "    <tr>\n",
       "      <th>807</th>\n",
       "      <td>Chalet</td>\n",
       "      <td>2</td>\n",
       "      <td>1</td>\n",
       "      <td>90</td>\n",
       "      <td>Bo Islands, Sidi Abdel Rahman, North Coast</td>\n",
       "      <td>100000</td>\n",
       "      <td>Bo Islands</td>\n",
       "      <td>Sidi Abdel Rahman</td>\n",
       "      <td>North Coast</td>\n",
       "    </tr>\n",
       "    <tr>\n",
       "      <th>2018</th>\n",
       "      <td>Apartment</td>\n",
       "      <td>3</td>\n",
       "      <td>3</td>\n",
       "      <td>200</td>\n",
       "      <td>il Mondo, New Capital Compounds, New Capital C...</td>\n",
       "      <td>100000</td>\n",
       "      <td>il Mondo</td>\n",
       "      <td>New Capital Compounds</td>\n",
       "      <td>Cairo</td>\n",
       "    </tr>\n",
       "    <tr>\n",
       "      <th>2526</th>\n",
       "      <td>Chalet</td>\n",
       "      <td>1</td>\n",
       "      <td>1</td>\n",
       "      <td>60</td>\n",
       "      <td>Lasirena Oyoun Mousa, Ras Sedr, South Sainai</td>\n",
       "      <td>100000</td>\n",
       "      <td>Lasirena Oyoun Mousa</td>\n",
       "      <td>Ras Sedr</td>\n",
       "      <td>South Sainai</td>\n",
       "    </tr>\n",
       "    <tr>\n",
       "      <th>3678</th>\n",
       "      <td>Apartment</td>\n",
       "      <td>3</td>\n",
       "      <td>2</td>\n",
       "      <td>110</td>\n",
       "      <td>True, Nasr City Compounds, Nasr City, Cairo</td>\n",
       "      <td>100000</td>\n",
       "      <td>True</td>\n",
       "      <td>Nasr City Compounds</td>\n",
       "      <td>Cairo</td>\n",
       "    </tr>\n",
       "    <tr>\n",
       "      <th>3918</th>\n",
       "      <td>Apartment</td>\n",
       "      <td>3</td>\n",
       "      <td>2</td>\n",
       "      <td>129</td>\n",
       "      <td>True, Nasr City Compounds, Nasr City, Cairo</td>\n",
       "      <td>100000</td>\n",
       "      <td>True</td>\n",
       "      <td>Nasr City Compounds</td>\n",
       "      <td>Cairo</td>\n",
       "    </tr>\n",
       "    <tr>\n",
       "      <th>4828</th>\n",
       "      <td>Townhouse</td>\n",
       "      <td>2</td>\n",
       "      <td>1</td>\n",
       "      <td>170</td>\n",
       "      <td>Mountain View, Ras Al Hekma, North Coast</td>\n",
       "      <td>100000</td>\n",
       "      <td>Mountain View</td>\n",
       "      <td>Ras Al Hekma</td>\n",
       "      <td>North Coast</td>\n",
       "    </tr>\n",
       "    <tr>\n",
       "      <th>4947</th>\n",
       "      <td>Apartment</td>\n",
       "      <td>2</td>\n",
       "      <td>2</td>\n",
       "      <td>96</td>\n",
       "      <td>Telal Al Sokhna, Al Ain Al Sokhna, Suez</td>\n",
       "      <td>100000</td>\n",
       "      <td>Telal Al Sokhna</td>\n",
       "      <td>Al Ain Al Sokhna</td>\n",
       "      <td>Suez</td>\n",
       "    </tr>\n",
       "    <tr>\n",
       "      <th>5542</th>\n",
       "      <td>Chalet</td>\n",
       "      <td>2</td>\n",
       "      <td>1</td>\n",
       "      <td>75</td>\n",
       "      <td>Lasirena Bay, Ras Sedr, South Sainai</td>\n",
       "      <td>100000</td>\n",
       "      <td>Lasirena Bay</td>\n",
       "      <td>Ras Sedr</td>\n",
       "      <td>South Sainai</td>\n",
       "    </tr>\n",
       "    <tr>\n",
       "      <th>5922</th>\n",
       "      <td>Chalet</td>\n",
       "      <td>2</td>\n",
       "      <td>1</td>\n",
       "      <td>75</td>\n",
       "      <td>Lasirena Bay, Ras Sedr, South Sainai</td>\n",
       "      <td>100000</td>\n",
       "      <td>Lasirena Bay</td>\n",
       "      <td>Ras Sedr</td>\n",
       "      <td>South Sainai</td>\n",
       "    </tr>\n",
       "    <tr>\n",
       "      <th>6076</th>\n",
       "      <td>Apartment</td>\n",
       "      <td>3</td>\n",
       "      <td>3</td>\n",
       "      <td>155</td>\n",
       "      <td>Sky AD, New Capital Compounds, New Capital Cit...</td>\n",
       "      <td>100000</td>\n",
       "      <td>Sky AD</td>\n",
       "      <td>New Capital Compounds</td>\n",
       "      <td>Cairo</td>\n",
       "    </tr>\n",
       "    <tr>\n",
       "      <th>6271</th>\n",
       "      <td>Chalet</td>\n",
       "      <td>2</td>\n",
       "      <td>2</td>\n",
       "      <td>99</td>\n",
       "      <td>Kai, Ras Al Hekma, North Coast</td>\n",
       "      <td>100000</td>\n",
       "      <td>Kai</td>\n",
       "      <td>Ras Al Hekma</td>\n",
       "      <td>North Coast</td>\n",
       "    </tr>\n",
       "    <tr>\n",
       "      <th>6419</th>\n",
       "      <td>Apartment</td>\n",
       "      <td>3</td>\n",
       "      <td>3</td>\n",
       "      <td>217</td>\n",
       "      <td>Bait Alwatan, The 5th Settlement, New Cairo Ci...</td>\n",
       "      <td>100000</td>\n",
       "      <td>Bait Alwatan</td>\n",
       "      <td>The 5th Settlement</td>\n",
       "      <td>Cairo</td>\n",
       "    </tr>\n",
       "    <tr>\n",
       "      <th>7009</th>\n",
       "      <td>Apartment</td>\n",
       "      <td>1</td>\n",
       "      <td>1</td>\n",
       "      <td>43</td>\n",
       "      <td>MU-23, Downtown Area, New Capital City, Cairo</td>\n",
       "      <td>100000</td>\n",
       "      <td>MU-23</td>\n",
       "      <td>Downtown Area</td>\n",
       "      <td>Cairo</td>\n",
       "    </tr>\n",
       "    <tr>\n",
       "      <th>7013</th>\n",
       "      <td>Hotel Apartment</td>\n",
       "      <td>1</td>\n",
       "      <td>1</td>\n",
       "      <td>40</td>\n",
       "      <td>MU-23, Downtown Area, New Capital City, Cairo</td>\n",
       "      <td>100000</td>\n",
       "      <td>MU-23</td>\n",
       "      <td>Downtown Area</td>\n",
       "      <td>Cairo</td>\n",
       "    </tr>\n",
       "    <tr>\n",
       "      <th>7067</th>\n",
       "      <td>Chalet</td>\n",
       "      <td>3</td>\n",
       "      <td>2</td>\n",
       "      <td>95</td>\n",
       "      <td>Lasirena Bay, Ras Sedr, South Sainai</td>\n",
       "      <td>100000</td>\n",
       "      <td>Lasirena Bay</td>\n",
       "      <td>Ras Sedr</td>\n",
       "      <td>South Sainai</td>\n",
       "    </tr>\n",
       "    <tr>\n",
       "      <th>7070</th>\n",
       "      <td>Chalet</td>\n",
       "      <td>3</td>\n",
       "      <td>2</td>\n",
       "      <td>95</td>\n",
       "      <td>Lasirena Bay, Ras Sedr, South Sainai</td>\n",
       "      <td>100000</td>\n",
       "      <td>Lasirena Bay</td>\n",
       "      <td>Ras Sedr</td>\n",
       "      <td>South Sainai</td>\n",
       "    </tr>\n",
       "    <tr>\n",
       "      <th>7224</th>\n",
       "      <td>Apartment</td>\n",
       "      <td>3</td>\n",
       "      <td>2</td>\n",
       "      <td>156</td>\n",
       "      <td>Bait Alwatan, The 5th Settlement, New Cairo Ci...</td>\n",
       "      <td>100000</td>\n",
       "      <td>Bait Alwatan</td>\n",
       "      <td>The 5th Settlement</td>\n",
       "      <td>Cairo</td>\n",
       "    </tr>\n",
       "    <tr>\n",
       "      <th>7730</th>\n",
       "      <td>Apartment</td>\n",
       "      <td>3</td>\n",
       "      <td>1</td>\n",
       "      <td>155</td>\n",
       "      <td>Bait Alwatan, The 5th Settlement, New Cairo Ci...</td>\n",
       "      <td>100000</td>\n",
       "      <td>Bait Alwatan</td>\n",
       "      <td>The 5th Settlement</td>\n",
       "      <td>Cairo</td>\n",
       "    </tr>\n",
       "  </tbody>\n",
       "</table>\n",
       "</div>"
      ],
      "text/plain": [
       "        property type  bedrooms  ...                district           city\n",
       "2           Apartment         2  ...   New Capital Compounds          Cairo\n",
       "8           Apartment         2  ...        New Capital City          Cairo\n",
       "24             Chalet         1  ...       Sidi Abdel Rahman    North Coast\n",
       "255         Apartment         3  ...   New Capital Compounds          Cairo\n",
       "314         Apartment         1  ...        New Capital City          Cairo\n",
       "345         Apartment         2  ...   New Capital Compounds          Cairo\n",
       "547         Apartment         3  ...     Northern Expansions           Giza\n",
       "551         Apartment         3  ...   New Capital Compounds          Cairo\n",
       "807            Chalet         2  ...       Sidi Abdel Rahman    North Coast\n",
       "2018        Apartment         3  ...   New Capital Compounds          Cairo\n",
       "2526           Chalet         1  ...                Ras Sedr   South Sainai\n",
       "3678        Apartment         3  ...     Nasr City Compounds          Cairo\n",
       "3918        Apartment         3  ...     Nasr City Compounds          Cairo\n",
       "4828        Townhouse         2  ...            Ras Al Hekma    North Coast\n",
       "4947        Apartment         2  ...        Al Ain Al Sokhna           Suez\n",
       "5542           Chalet         2  ...                Ras Sedr   South Sainai\n",
       "5922           Chalet         2  ...                Ras Sedr   South Sainai\n",
       "6076        Apartment         3  ...   New Capital Compounds          Cairo\n",
       "6271           Chalet         2  ...            Ras Al Hekma    North Coast\n",
       "6419        Apartment         3  ...      The 5th Settlement          Cairo\n",
       "7009        Apartment         1  ...           Downtown Area          Cairo\n",
       "7013  Hotel Apartment         1  ...           Downtown Area          Cairo\n",
       "7067           Chalet         3  ...                Ras Sedr   South Sainai\n",
       "7070           Chalet         3  ...                Ras Sedr   South Sainai\n",
       "7224        Apartment         3  ...      The 5th Settlement          Cairo\n",
       "7730        Apartment         3  ...      The 5th Settlement          Cairo\n",
       "\n",
       "[26 rows x 9 columns]"
      ]
     },
     "execution_count": 12,
     "metadata": {},
     "output_type": "execute_result"
    }
   ],
   "source": [
    "df[df['price'] == df['price'].min()]"
   ]
  },
  {
   "cell_type": "markdown",
   "metadata": {},
   "source": [
    "#### We saved each unique string in caetgorical columns so we can use it later for users inputs"
   ]
  },
  {
   "cell_type": "code",
   "execution_count": 13,
   "metadata": {},
   "outputs": [],
   "source": [
    "types = (df['property type'].value_counts()).index\n",
    "\n",
    "with open('property_type.txt', 'w') as f:\n",
    "    for item in types:\n",
    "        f.write(\"%s\\n\" % item)"
   ]
  },
  {
   "cell_type": "code",
   "execution_count": 14,
   "metadata": {},
   "outputs": [],
   "source": [
    "compounds = (df['compound'].value_counts()).index\n",
    "\n",
    "with open('compounds.txt', 'w') as f:\n",
    "    for item in compounds:\n",
    "        f.write(\"%s\\n\" % item)"
   ]
  },
  {
   "cell_type": "code",
   "execution_count": 15,
   "metadata": {},
   "outputs": [],
   "source": [
    "district = (df['district'].value_counts()).index\n",
    "\n",
    "with open('district.txt', 'w') as f:\n",
    "    for item in district:\n",
    "        f.write(\"%s\\n\" % item)"
   ]
  },
  {
   "cell_type": "code",
   "execution_count": 16,
   "metadata": {},
   "outputs": [],
   "source": [
    "city = (df['city'].value_counts()).index\n",
    "\n",
    "with open('city.txt', 'w') as f:\n",
    "    for item in city:\n",
    "        f.write(\"%s\\n\" % item)"
   ]
  },
  {
   "cell_type": "code",
   "execution_count": 17,
   "metadata": {},
   "outputs": [
    {
     "data": {
      "image/png": "[encoded data removed]",
      "text/plain": [
       "<Figure size 432x288 with 1 Axes>"
      ]
     },
     "metadata": {
      "needs_background": "light"
     },
     "output_type": "display_data"
    }
   ],
   "source": [
    "sb.countplot(data=df, y = 'city', palette='viridis', color = sb.color_palette()[0], \n",
    "             order=df['city'].value_counts().index).set_title('The most common city in property finder');"
   ]
  },
  {
   "cell_type": "code",
   "execution_count": 18,
   "metadata": {},
   "outputs": [
    {
     "data": {
      "image/png": "[encoded data removed]",
      "text/plain": [
       "<Figure size 432x288 with 1 Axes>"
      ]
     },
     "metadata": {
      "needs_background": "light"
     },
     "output_type": "display_data"
    }
   ],
   "source": [
    "sb.countplot(data=df, y = 'property type', palette='viridis', color = sb.color_palette()[0], \n",
    "             order=df['property type'].value_counts().index).set_title('The most common property type in property finder');"
   ]
  },
  {
   "cell_type": "code",
   "execution_count": 19,
   "metadata": {},
   "outputs": [
    {
     "data": {
      "text/html": [
       "<div>\n",
       "<style scoped>\n",
       "    .dataframe tbody tr th:only-of-type {\n",
       "        vertical-align: middle;\n",
       "    }\n",
       "\n",
       "    .dataframe tbody tr th {\n",
       "        vertical-align: top;\n",
       "    }\n",
       "\n",
       "    .dataframe thead th {\n",
       "        text-align: right;\n",
       "    }\n",
       "</style>\n",
       "<table border=\"1\" class=\"dataframe\">\n",
       "  <thead>\n",
       "    <tr style=\"text-align: right;\">\n",
       "      <th></th>\n",
       "      <th>property type</th>\n",
       "      <th>bedrooms</th>\n",
       "      <th>bathrooms</th>\n",
       "      <th>area</th>\n",
       "      <th>address</th>\n",
       "      <th>price</th>\n",
       "      <th>compound</th>\n",
       "      <th>district</th>\n",
       "      <th>city</th>\n",
       "    </tr>\n",
       "  </thead>\n",
       "  <tbody>\n",
       "    <tr>\n",
       "      <th>0</th>\n",
       "      <td>0</td>\n",
       "      <td>3</td>\n",
       "      <td>3</td>\n",
       "      <td>239</td>\n",
       "      <td>The Fourteen Golf Residences, Uptown Cairo, Mo...</td>\n",
       "      <td>4860000</td>\n",
       "      <td>943</td>\n",
       "      <td>233</td>\n",
       "      <td>2</td>\n",
       "    </tr>\n",
       "    <tr>\n",
       "      <th>1</th>\n",
       "      <td>9</td>\n",
       "      <td>4</td>\n",
       "      <td>4</td>\n",
       "      <td>571</td>\n",
       "      <td>Allegria, Sheikh Zayed Compounds, Sheikh Zayed...</td>\n",
       "      <td>10000000</td>\n",
       "      <td>180</td>\n",
       "      <td>213</td>\n",
       "      <td>4</td>\n",
       "    </tr>\n",
       "    <tr>\n",
       "      <th>2</th>\n",
       "      <td>0</td>\n",
       "      <td>2</td>\n",
       "      <td>2</td>\n",
       "      <td>134</td>\n",
       "      <td>IL Bosco, New Capital Compounds, New Capital C...</td>\n",
       "      <td>100000</td>\n",
       "      <td>480</td>\n",
       "      <td>169</td>\n",
       "      <td>2</td>\n",
       "    </tr>\n",
       "    <tr>\n",
       "      <th>3</th>\n",
       "      <td>10</td>\n",
       "      <td>3</td>\n",
       "      <td>3</td>\n",
       "      <td>324</td>\n",
       "      <td>Mountain View Hyde Park, 5th Settlement Compou...</td>\n",
       "      <td>3800000</td>\n",
       "      <td>679</td>\n",
       "      <td>22</td>\n",
       "      <td>2</td>\n",
       "    </tr>\n",
       "    <tr>\n",
       "      <th>4</th>\n",
       "      <td>9</td>\n",
       "      <td>5</td>\n",
       "      <td>6</td>\n",
       "      <td>560</td>\n",
       "      <td>Allegria, Sheikh Zayed Compounds, Sheikh Zayed...</td>\n",
       "      <td>26000000</td>\n",
       "      <td>180</td>\n",
       "      <td>213</td>\n",
       "      <td>4</td>\n",
       "    </tr>\n",
       "    <tr>\n",
       "      <th>...</th>\n",
       "      <td>...</td>\n",
       "      <td>...</td>\n",
       "      <td>...</td>\n",
       "      <td>...</td>\n",
       "      <td>...</td>\n",
       "      <td>...</td>\n",
       "      <td>...</td>\n",
       "      <td>...</td>\n",
       "      <td>...</td>\n",
       "    </tr>\n",
       "    <tr>\n",
       "      <th>7874</th>\n",
       "      <td>9</td>\n",
       "      <td>4</td>\n",
       "      <td>4</td>\n",
       "      <td>360</td>\n",
       "      <td>Villette, 5th Settlement Compounds, The 5th Se...</td>\n",
       "      <td>15000000</td>\n",
       "      <td>986</td>\n",
       "      <td>22</td>\n",
       "      <td>2</td>\n",
       "    </tr>\n",
       "    <tr>\n",
       "      <th>7875</th>\n",
       "      <td>0</td>\n",
       "      <td>3</td>\n",
       "      <td>2</td>\n",
       "      <td>205</td>\n",
       "      <td>Nagib Al Rehani St., Rehab City Third Phase, A...</td>\n",
       "      <td>1300000</td>\n",
       "      <td>689</td>\n",
       "      <td>200</td>\n",
       "      <td>2</td>\n",
       "    </tr>\n",
       "    <tr>\n",
       "      <th>7876</th>\n",
       "      <td>6</td>\n",
       "      <td>3</td>\n",
       "      <td>2</td>\n",
       "      <td>167</td>\n",
       "      <td>Kayan, Sheikh Zayed Compounds, Sheikh Zayed Ci...</td>\n",
       "      <td>2800000</td>\n",
       "      <td>537</td>\n",
       "      <td>213</td>\n",
       "      <td>4</td>\n",
       "    </tr>\n",
       "    <tr>\n",
       "      <th>7877</th>\n",
       "      <td>2</td>\n",
       "      <td>3</td>\n",
       "      <td>3</td>\n",
       "      <td>100</td>\n",
       "      <td>Hacienda Bay, Sidi Abdel Rahman, North Coast</td>\n",
       "      <td>2500000</td>\n",
       "      <td>456</td>\n",
       "      <td>217</td>\n",
       "      <td>6</td>\n",
       "    </tr>\n",
       "    <tr>\n",
       "      <th>7878</th>\n",
       "      <td>0</td>\n",
       "      <td>5</td>\n",
       "      <td>5</td>\n",
       "      <td>725</td>\n",
       "      <td>Zed Towers, Sheikh Zayed Compounds, Sheikh Zay...</td>\n",
       "      <td>87519000</td>\n",
       "      <td>1023</td>\n",
       "      <td>213</td>\n",
       "      <td>4</td>\n",
       "    </tr>\n",
       "  </tbody>\n",
       "</table>\n",
       "<p>7874 rows × 9 columns</p>\n",
       "</div>"
      ],
      "text/plain": [
       "      property type  bedrooms  bathrooms  ...  compound district  city\n",
       "0                 0         3          3  ...       943      233     2\n",
       "1                 9         4          4  ...       180      213     4\n",
       "2                 0         2          2  ...       480      169     2\n",
       "3                10         3          3  ...       679       22     2\n",
       "4                 9         5          6  ...       180      213     4\n",
       "...             ...       ...        ...  ...       ...      ...   ...\n",
       "7874              9         4          4  ...       986       22     2\n",
       "7875              0         3          2  ...       689      200     2\n",
       "7876              6         3          2  ...       537      213     4\n",
       "7877              2         3          3  ...       456      217     6\n",
       "7878              0         5          5  ...      1023      213     4\n",
       "\n",
       "[7874 rows x 9 columns]"
      ]
     },
     "execution_count": 19,
     "metadata": {},
     "output_type": "execute_result"
    }
   ],
   "source": [
    "df_new = df\n",
    "\n",
    "from sklearn.preprocessing import LabelEncoder\n",
    "encoders = list()\n",
    "for i in df.columns:\n",
    "    le = LabelEncoder()\n",
    "    if i in ['property type','compound', 'district', 'city']:\n",
    "        df_new[i] = le.fit_transform(df[i])\n",
    "        encoders.append(le)\n",
    "df_new"
   ]
  },
  {
   "cell_type": "code",
   "execution_count": 20,
   "metadata": {},
   "outputs": [],
   "source": [
    "# Split data to Train and Test Sets\n",
    "df_new.drop(['address'],axis=1, inplace=True)\n",
    "x=df_new.drop(['price'], axis=1)\n",
    "y=df_new['price']"
   ]
  },
  {
   "cell_type": "code",
   "execution_count": 21,
   "metadata": {},
   "outputs": [],
   "source": [
    "from sklearn.model_selection import train_test_split\n",
    "\n",
    "x_train, x_test, y_train, y_test = train_test_split(x, y, test_size=0.2)"
   ]
  },
  {
   "cell_type": "code",
   "execution_count": 22,
   "metadata": {},
   "outputs": [],
   "source": [
    "# Feature Scaling\n",
    "from sklearn.preprocessing import StandardScaler\n",
    "\n",
    "scaler = StandardScaler()"
   ]
  },
  {
   "cell_type": "code",
   "execution_count": 23,
   "metadata": {},
   "outputs": [],
   "source": [
    "scaler.fit(x_train)\n",
    "\n",
    "x_train = scaler.transform(x_train)\n",
    "x_test = scaler.transform(x_test)"
   ]
  },
  {
   "cell_type": "markdown",
   "metadata": {},
   "source": [
    "# Machine Learning"
   ]
  },
  {
   "cell_type": "code",
   "execution_count": 24,
   "metadata": {},
   "outputs": [],
   "source": [
    "from sklearn.linear_model import LinearRegression\n",
    "from sklearn.neighbors import KNeighborsRegressor\n",
    "from sklearn.svm import SVR\n",
    "from sklearn.tree import DecisionTreeRegressor\n",
    "from sklearn.ensemble import RandomForestRegressor\n",
    "from sklearn.metrics import mean_squared_error"
   ]
  },
  {
   "cell_type": "code",
   "execution_count": 25,
   "metadata": {},
   "outputs": [],
   "source": [
    "models = {\n",
    "    \"LR\": LinearRegression(),\n",
    "    \"KNNR\" : KNeighborsRegressor(), \n",
    "    \"SVR\": SVR(),\n",
    "    \"DT\": DecisionTreeRegressor(),\n",
    "    \"RF\": RandomForestRegressor(),\n",
    "}"
   ]
  },
  {
   "cell_type": "code",
   "execution_count": 26,
   "metadata": {},
   "outputs": [
    {
     "name": "stdout",
     "output_type": "stream",
     "text": [
      "Using model: LR\n",
      "Training Score: 0.26644633430270614\n",
      "Test Score: 0.3888375500854409\n",
      "RMSE: 6048007.563539537\n",
      "-----------------------------------------------------------\n",
      "Using model: KNNR\n",
      "Training Score: 0.5635404248990366\n",
      "Test Score: 0.4811341554479156\n",
      "RMSE: 5572647.028099704\n",
      "-----------------------------------------------------------\n",
      "Using model: SVR\n",
      "Training Score: -0.06442890965095249\n",
      "Test Score: -0.09610744307328045\n",
      "RMSE: 8099543.784252453\n",
      "-----------------------------------------------------------\n",
      "Using model: DT\n",
      "Training Score: 0.9924970646541266\n",
      "Test Score: -0.4518083603474945\n",
      "RMSE: 9321560.884285323\n",
      "-----------------------------------------------------------\n",
      "Using model: RF\n",
      "Training Score: 0.9152889824055468\n",
      "Test Score: 0.5434689656251795\n",
      "RMSE: 5227200.357822375\n",
      "-----------------------------------------------------------\n"
     ]
    }
   ],
   "source": [
    "for name, model in models.items():\n",
    "    print(f'Using model: {name}')\n",
    "    model.fit(x_train, y_train)\n",
    "    print(f'Training Score: {model.score(x_train, y_train)}')\n",
    "    print(f'Test Score: {model.score(x_test, y_test)}') \n",
    "    y_pred = model.predict(x_test)\n",
    "    print(f'RMSE: {np.sqrt(mean_squared_error(y_test, y_pred))}')\n",
    "    print('-----------------------------------------------------------')"
   ]
  },
  {
   "cell_type": "code",
   "execution_count": 27,
   "metadata": {},
   "outputs": [
    {
     "data": {
      "text/plain": [
       "KNeighborsRegressor(algorithm='auto', leaf_size=30, metric='minkowski',\n",
       "                    metric_params=None, n_jobs=None, n_neighbors=5, p=2,\n",
       "                    weights='uniform')"
      ]
     },
     "execution_count": 27,
     "metadata": {},
     "output_type": "execute_result"
    }
   ],
   "source": [
    "model = KNeighborsRegressor()\n",
    "model.fit(x_train, y_train)"
   ]
  },
  {
   "cell_type": "code",
   "execution_count": 28,
   "metadata": {},
   "outputs": [
    {
     "data": {
      "text/plain": [
       "array([14130000, 40400000,  9919977, ...,   258000, 22218104,   845017])"
      ]
     },
     "execution_count": 28,
     "metadata": {},
     "output_type": "execute_result"
    }
   ],
   "source": [
    "y_pred = model.predict(x_test)\n",
    "y_pred.astype(int)"
   ]
  },
  {
   "cell_type": "code",
   "execution_count": 29,
   "metadata": {},
   "outputs": [
    {
     "data": {
      "text/plain": [
       "7614    33500000\n",
       "7620    50000000\n",
       "4405    10200000\n",
       "2137     2150000\n",
       "1894     1860000\n",
       "          ...   \n",
       "619      6500000\n",
       "5553      780000\n",
       "6865      270000\n",
       "655      7500000\n",
       "7718     1600000\n",
       "Name: price, Length: 1575, dtype: int64"
      ]
     },
     "execution_count": 29,
     "metadata": {},
     "output_type": "execute_result"
    }
   ],
   "source": [
    "y_test"
   ]
  },
  {
   "cell_type": "code",
   "execution_count": 30,
   "metadata": {},
   "outputs": [],
   "source": [
    "import joblib"
   ]
  },
  {
   "cell_type": "code",
   "execution_count": 31,
   "metadata": {},
   "outputs": [
    {
     "data": {
      "text/plain": [
       "['DTmodel.h5']"
      ]
     },
     "execution_count": 31,
     "metadata": {},
     "output_type": "execute_result"
    }
   ],
   "source": [
    "joblib.dump(model, 'DTmodel.h5')"
   ]
  },
  {
   "cell_type": "code",
   "execution_count": 32,
   "metadata": {},
   "outputs": [
    {
     "data": {
      "text/plain": [
       "['scaler.h5']"
      ]
     },
     "execution_count": 32,
     "metadata": {},
     "output_type": "execute_result"
    }
   ],
   "source": [
    "joblib.dump(scaler, 'scaler.h5')"
   ]
  },
  {
   "cell_type": "code",
   "execution_count": 33,
   "metadata": {},
   "outputs": [],
   "source": [
    "n = 1\n",
    "for i in encoders:\n",
    "    joblib.dump(i, 'label_encoder{0}.joblib'.format(n))\n",
    "    n += 1"
   ]
  },
  {
   "cell_type": "code",
   "execution_count": 34,
   "metadata": {},
   "outputs": [
    {
     "data": {
      "text/plain": [
       "Index(['property type', 'bedrooms', 'bathrooms', 'area', 'compound',\n",
       "       'district', 'city'],\n",
       "      dtype='object')"
      ]
     },
     "execution_count": 34,
     "metadata": {},
     "output_type": "execute_result"
    }
   ],
   "source": [
    "x.columns"
   ]
  },
  {
   "cell_type": "code",
   "execution_count": 35,
   "metadata": {},
   "outputs": [
    {
     "data": {
      "text/plain": [
       "[array([9]), 5, 5, 725, array([1023]), array([230]), array([2])]"
      ]
     },
     "execution_count": 35,
     "metadata": {},
     "output_type": "execute_result"
    }
   ],
   "source": [
    "test_data = ['Villa', 5, 5, 725, 'Zed Towers', ' The 5th Settlement', ' Cairo']\n",
    "\n",
    "test_data[0] = encoders[0].transform([test_data[0]])\n",
    "test_data[4] = encoders[1].transform([test_data[4]])\n",
    "test_data[5] = encoders[2].transform([test_data[5]])\n",
    "test_data[6] = encoders[3].transform([test_data[6]])\n",
    "\n",
    "test_data"
   ]
  },
  {
   "cell_type": "code",
   "execution_count": 36,
   "metadata": {},
   "outputs": [],
   "source": [
    "test_data = scaler.transform([test_data])"
   ]
  },
  {
   "cell_type": "code",
   "execution_count": 37,
   "metadata": {},
   "outputs": [
    {
     "data": {
      "text/plain": [
       "21900000"
      ]
     },
     "execution_count": 37,
     "metadata": {},
     "output_type": "execute_result"
    }
   ],
   "source": [
    "int(model.predict(test_data))"
   ]
  }
 ],
 "metadata": {
  "kernelspec": {
   "display_name": "Python 3",
   "language": "python",
   "name": "python3"
  },
  "language_info": {
   "codemirror_mode": {
    "name": "ipython",
    "version": 3
   },
   "file_extension": ".py",
   "mimetype": "text/x-python",
   "name": "python",
   "nbconvert_exporter": "python",
   "pygments_lexer": "ipython3",
   "version": "3.7.6"
  }
 },
 "nbformat": 4,
 "nbformat_minor": 4
}
