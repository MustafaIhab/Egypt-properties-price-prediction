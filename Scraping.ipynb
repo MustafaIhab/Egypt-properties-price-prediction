{
 "cells": [
  {
   "cell_type": "markdown",
   "metadata": {},
   "source": [
    "# WEB SCRAPING\n",
    "\n",
    "Scraping the website propertyfinder and save information about properties in Egypt "
   ]
  },
  {
   "cell_type": "code",
   "execution_count": 1,
   "metadata": {},
   "outputs": [],
   "source": [
    "import requests\n",
    "from bs4 import BeautifulSoup as bs\n",
    "import re"
   ]
  },
  {
   "cell_type": "code",
   "execution_count": 2,
   "metadata": {},
   "outputs": [],
   "source": [
    "url = 'https://www.propertyfinder.eg/en/buy/properties-for-sale.html'\n",
    "r = requests.get(url)\n",
    "soup = bs(r.content)"
   ]
  },
  {
   "cell_type": "code",
   "execution_count": 3,
   "metadata": {},
   "outputs": [],
   "source": [
    "properties = []\n",
    "n = 2 #number of pages\n",
    "\n",
    "while(n<1000):\n",
    "    \n",
    "    property_list = soup.find_all('div', {'class':'card-list__item'})\n",
    "    for i in property_list:\n",
    "        details = dict()\n",
    "        \n",
    "        try:\n",
    "            details['property type'] = i.findChild('p', {'class':'card-v2__property-amenity card-v2__property-amenity--property-type'}).contents[0]\n",
    "            details['bedrooms'] = i.findChild('p', {'class':'card-v2__property-amenity card-v2__property-amenity--bedrooms'}).contents[1]\n",
    "            details['bathrooms'] = i.findChild('p', {'class':'card-v2__property-amenity card-v2__property-amenity--bathrooms'}).contents[1]\n",
    "\n",
    "            area =  i.findChild('p', {'class':'card-v2__property-amenity card-v2__property-amenity--area'}).contents[1]\n",
    "            details['area'] = re.sub('\\D', '',area)\n",
    "\n",
    "            details['address'] = i.findChild('p', {'class':'card-v2__location'}).findChild('span').contents[0]\n",
    "            price = i.findChild('span', {'class':'card__price-value'}).contents[0]\n",
    "            #Remove characters and keep only the digits\n",
    "            details['price'] = re.sub('\\D', '',price)\n",
    "\n",
    "            properties.append(details)\n",
    "        except:\n",
    "            continue\n",
    "    \n",
    "    try:\n",
    "        url = 'https://www.propertyfinder.eg/en/buy/properties-for-sale.html?page=' + str(n)\n",
    "        r = requests.get(url)\n",
    "        soup = bs(r.content)\n",
    "    except:\n",
    "        break\n",
    "    \n",
    "    n+=1"
   ]
  },
  {
   "cell_type": "code",
   "execution_count": 4,
   "metadata": {},
   "outputs": [
    {
     "data": {
      "text/html": [
       "<div>\n",
       "<style scoped>\n",
       "    .dataframe tbody tr th:only-of-type {\n",
       "        vertical-align: middle;\n",
       "    }\n",
       "\n",
       "    .dataframe tbody tr th {\n",
       "        vertical-align: top;\n",
       "    }\n",
       "\n",
       "    .dataframe thead th {\n",
       "        text-align: right;\n",
       "    }\n",
       "</style>\n",
       "<table border=\"1\" class=\"dataframe\">\n",
       "  <thead>\n",
       "    <tr style=\"text-align: right;\">\n",
       "      <th></th>\n",
       "      <th>property type</th>\n",
       "      <th>bedrooms</th>\n",
       "      <th>bathrooms</th>\n",
       "      <th>area</th>\n",
       "      <th>address</th>\n",
       "      <th>price</th>\n",
       "    </tr>\n",
       "  </thead>\n",
       "  <tbody>\n",
       "    <tr>\n",
       "      <th>0</th>\n",
       "      <td>Apartment</td>\n",
       "      <td>3</td>\n",
       "      <td>3</td>\n",
       "      <td>239</td>\n",
       "      <td>The Fourteen Golf Residences, Uptown Cairo, Mo...</td>\n",
       "      <td>4860000</td>\n",
       "    </tr>\n",
       "    <tr>\n",
       "      <th>1</th>\n",
       "      <td>Villa</td>\n",
       "      <td>4</td>\n",
       "      <td>4</td>\n",
       "      <td>571</td>\n",
       "      <td>Allegria, Sheikh Zayed Compounds, Sheikh Zayed...</td>\n",
       "      <td>10000000</td>\n",
       "    </tr>\n",
       "    <tr>\n",
       "      <th>2</th>\n",
       "      <td>Apartment</td>\n",
       "      <td>2</td>\n",
       "      <td>2</td>\n",
       "      <td>134</td>\n",
       "      <td>IL Bosco, New Capital Compounds, New Capital C...</td>\n",
       "      <td>100000</td>\n",
       "    </tr>\n",
       "    <tr>\n",
       "      <th>3</th>\n",
       "      <td>iVilla</td>\n",
       "      <td>3</td>\n",
       "      <td>3</td>\n",
       "      <td>324</td>\n",
       "      <td>Mountain View Hyde Park, 5th Settlement Compou...</td>\n",
       "      <td>3800000</td>\n",
       "    </tr>\n",
       "    <tr>\n",
       "      <th>4</th>\n",
       "      <td>Villa</td>\n",
       "      <td>5</td>\n",
       "      <td>6</td>\n",
       "      <td>560</td>\n",
       "      <td>Allegria, Sheikh Zayed Compounds, Sheikh Zayed...</td>\n",
       "      <td>26000000</td>\n",
       "    </tr>\n",
       "  </tbody>\n",
       "</table>\n",
       "</div>"
      ],
      "text/plain": [
       "  property type  ...     price\n",
       "0     Apartment  ...   4860000\n",
       "1         Villa  ...  10000000\n",
       "2     Apartment  ...    100000\n",
       "3        iVilla  ...   3800000\n",
       "4         Villa  ...  26000000\n",
       "\n",
       "[5 rows x 6 columns]"
      ]
     },
     "execution_count": 4,
     "metadata": {},
     "output_type": "execute_result"
    }
   ],
   "source": [
    "import pandas as pd\n",
    "\n",
    "df = pd.DataFrame(properties)\n",
    "df.head()"
   ]
  },
  {
   "cell_type": "code",
   "execution_count": 5,
   "metadata": {},
   "outputs": [],
   "source": [
    "# Save the data frame as excel\n",
    "df.to_excel(\"output.xlsx\")"
   ]
  }
 ],
 "metadata": {
  "kernelspec": {
   "display_name": "Python 3",
   "language": "python",
   "name": "python3"
  },
  "language_info": {
   "codemirror_mode": {
    "name": "ipython",
    "version": 3
   },
   "file_extension": ".py",
   "mimetype": "text/x-python",
   "name": "python",
   "nbconvert_exporter": "python",
   "pygments_lexer": "ipython3",
   "version": "3.7.6"
  }
 },
 "nbformat": 4,
 "nbformat_minor": 4
}
